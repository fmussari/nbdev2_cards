{
 "cells": [
  {
   "cell_type": "code",
   "execution_count": null,
   "metadata": {},
   "outputs": [],
   "source": [
    "#| hide\n",
    "from nbdev2_cards.card import *"
   ]
  },
  {
   "cell_type": "markdown",
   "metadata": {},
   "source": [
    "# nbdev2_cards demo (And nbdev 2.0 setup)\n",
    "\n",
    "> Based on Youtube [nbdev tutorial -- zero to published project in 90 minutes](https://youtu.be/l7zS8Ld4_iA)  "
   ]
  },
  {
   "cell_type": "markdown",
   "metadata": {},
   "source": [
    "> **With instruction of how I setup the nbdev 2.0 environment.**\n",
    "\n",
    "These notes are not supposed to be self explanatory.  \n",
    "They try to compliment what's in the video and tutorial.\n"
   ]
  },
  {
   "cell_type": "markdown",
   "metadata": {},
   "source": [
    "## References"
   ]
  },
  {
   "cell_type": "markdown",
   "metadata": {},
   "source": [
    "1. Youtube: [nbdev tutorial -- zero to published project in 90 minutes](https://youtu.be/l7zS8Ld4_iA)\n",
    "2. Tutorial: [nbdev tutorial](https://nbdev.fast.ai/tutorial.html)\n",
    "3. Repo: [fastai / nbdev](https://github.com/fastai/nbdev)\n",
    "4. Fastai forum: [Nbdev v2 launched](https://forums.fast.ai/t/nbdev-v2-launched/97821)"
   ]
  },
  {
   "cell_type": "markdown",
   "metadata": {},
   "source": [
    "## Create the environment\n",
    "**Using WSL:**"
   ]
  },
  {
   "cell_type": "markdown",
   "metadata": {},
   "source": [
    "### To setup the environment:"
   ]
  },
  {
   "cell_type": "markdown",
   "metadata": {},
   "source": [
    "```\n",
    "(base) $ mamba create -n nbdev2 python=3.9\n",
    "(base) $ mamba activate nbdev2\n",
    "(nbdev2) $ mamba install -c anaconda notebook\n",
    "(nbdev2) $ mamba install -c fastai nbdev\n",
    "(nbdev2) $ nbdev_install_quarto\n",
    "```"
   ]
  },
  {
   "cell_type": "markdown",
   "metadata": {},
   "source": [
    "### Clone a basic github repo:"
   ]
  },
  {
   "cell_type": "markdown",
   "metadata": {},
   "source": [
    "```\n",
    "(nbdev2) $ git clone git@github.com:fmussari/nbdev2_cards.git\n",
    "(nbdev2) $ cd nbdev2_cards\n",
    "```"
   ]
  },
  {
   "cell_type": "markdown",
   "metadata": {},
   "source": [
    "### Create a new project"
   ]
  },
  {
   "cell_type": "markdown",
   "metadata": {},
   "source": [
    "```\n",
    "(nbdev2) $ nbdev_new\n",
    "```"
   ]
  },
  {
   "cell_type": "markdown",
   "metadata": {},
   "source": [
    "### Create the modules \n",
    "- [00_cards.ipynb](00_cards.ipynb)\n",
    "- [01_deck.ipynb](01_deck.ipynb)"
   ]
  },
  {
   "cell_type": "markdown",
   "metadata": {},
   "source": [
    "### Publish\n",
    "\n",
    "This commands creates [card.py](nbdev2_cards/card.py) and [deck.py](nbdev2_cards/deck.py)\n",
    "\n",
    "```\n",
    "(nbdev2) $ nbdev_export\n",
    "(nbdev2) $ pip install -e .\n",
    "```\n"
   ]
  },
  {
   "cell_type": "markdown",
   "metadata": {},
   "source": [
    "## Settings.ini\n",
    "Since the path has underscore, and the library name can't. \n",
    "Change underscore with dash in lib_name [settings.ini](settings.ini) and change also the path:"
   ]
  },
  {
   "cell_type": "markdown",
   "metadata": {},
   "source": [
    "```\n",
    "lib_name = nbdev2-cards\n",
    "lib_path = nbdev2_cards\n",
    "```"
   ]
  },
  {
   "cell_type": "markdown",
   "metadata": {},
   "source": [
    "## Convert this file (`index.ipynb`) to `Readme.md`"
   ]
  },
  {
   "cell_type": "markdown",
   "metadata": {},
   "source": [
    "```\n",
    "(nbdev2) $ nbdev_docs\n",
    "```"
   ]
  },
  {
   "cell_type": "markdown",
   "metadata": {},
   "source": [
    "## Install"
   ]
  },
  {
   "cell_type": "markdown",
   "metadata": {},
   "source": [
    "`pip install your_project_name`"
   ]
  },
  {
   "cell_type": "markdown",
   "metadata": {},
   "source": [
    "## How to use"
   ]
  },
  {
   "cell_type": "markdown",
   "metadata": {},
   "source": [
    "This lib provides a `Card`class to create, display and compare playing cards."
   ]
  },
  {
   "cell_type": "code",
   "execution_count": null,
   "metadata": {},
   "outputs": [
    {
     "data": {
      "text/plain": [
       "3♢"
      ]
     },
     "execution_count": null,
     "metadata": {},
     "output_type": "execute_result"
    }
   ],
   "source": [
    "Card(1,3)"
   ]
  },
  {
   "cell_type": "code",
   "execution_count": null,
   "metadata": {},
   "outputs": [],
   "source": []
  }
 ],
 "metadata": {
  "kernelspec": {
   "display_name": "Python 3 (ipykernel)",
   "language": "python",
   "name": "python3"
  }
 },
 "nbformat": 4,
 "nbformat_minor": 4
}
